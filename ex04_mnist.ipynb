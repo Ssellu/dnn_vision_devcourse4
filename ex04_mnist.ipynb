{
 "cells": [
  {
   "attachments": {},
   "cell_type": "markdown",
   "metadata": {},
   "source": [
    "# Start MNIST with PyTorch\n"
   ]
  },
  {
   "cell_type": "markdown",
   "metadata": {},
   "source": [
    "## Import"
   ]
  },
  {
   "cell_type": "code",
   "execution_count": 18,
   "metadata": {},
   "outputs": [],
   "source": [
    "import argparse\n",
    "import sys\n",
    "\n",
    "import torch\n",
    "import torch.nn as nn\n",
    "import torchvision.transforms as transforms\n",
    "\n",
    "from torchvision.datasets import MNIST"
   ]
  },
  {
   "cell_type": "markdown",
   "metadata": {},
   "source": [
    "### Get MNIST Dataset"
   ]
  },
  {
   "cell_type": "code",
   "execution_count": 20,
   "metadata": {},
   "outputs": [],
   "source": [
    "from torchvision.datasets import MNIST\n",
    "import torchvision.transforms as transforms\n",
    "\n",
    "def get_mnist_dataset():\n",
    "    download_root = './mnist_dataset'\n",
    "    my_transform = transforms.Compose([\n",
    "        transforms.Resize([32, 32]),\n",
    "        transforms.ToTensor(),\n",
    "        transforms.Normalize((0.5,), (1.0,))\n",
    "    ])\n",
    "    train_dataset = MNIST(root=download_root,\n",
    "                          transform=my_transform,\n",
    "                          train=True,\n",
    "                          download=args.download)\n",
    "    eval_dataset = MNIST(root=download_root,\n",
    "                         transform=my_transform,\n",
    "                         train=True,\n",
    "                         download=args.download)\n",
    "    test_dataset = MNIST(root=download_root,\n",
    "                         transform=my_transform,\n",
    "                         train=False,\n",
    "                         download=args.download)\n",
    "    return train_dataset, eval_dataset, test_dataset"
   ]
  },
  {
   "cell_type": "markdown",
   "metadata": {},
   "source": [
    "## Using `argsparse`"
   ]
  },
  {
   "cell_type": "code",
   "execution_count": 21,
   "metadata": {},
   "outputs": [],
   "source": [
    "import argparse\n",
    "import sys\n",
    "\n",
    "\n",
    "def parse_args():\n",
    "    parser = argparse.ArgumentParser(description=\"MNIST\")\n",
    "    parser.add_argument('--mode', dest='mode', help='train / eval / test', default=None, type=str)\n",
    "    parser.add_argument('--download', dest='download', help='Downlpad MNIST dataset', default=False, type=bool)\n",
    "    parser.add_argument('--output_dir', dest='output_dir', help='Output directory', default='./output', type=str)\n",
    "    parser.add_argument('--checkpoint', dest='checkpoint', help='Checkpoint trained model', default=None, type=str)\n",
    "          \n",
    "    if len(sys.argv) == 1:\n",
    "        sys.exit()\n",
    "    args = parser.parse_args()\n",
    "    return args"
   ]
  },
  {
   "cell_type": "code",
   "execution_count": 17,
   "metadata": {},
   "outputs": [],
   "source": [
    "def main():\n",
    "    print(torch.__version__)\n",
    "\n",
    "    if torch.cuda.is_available():\n",
    "        print(\"Using GPU\")\n",
    "        device = torch.device('cuda')\n",
    "    else:\n",
    "        print(\"Using CPU\")\n",
    "        device = torch.device('cpu')"
   ]
  },
  {
   "cell_type": "code",
   "execution_count": 22,
   "metadata": {},
   "outputs": [
    {
     "name": "stderr",
     "output_type": "stream",
     "text": [
      "usage: ipykernel_launcher.py [-h] [--mode MODE] [--download DOWNLOAD]\n",
      "                             [--output_dir OUTPUT_DIR]\n",
      "                             [--checkpoint CHECKPOINT]\n",
      "ipykernel_launcher.py: error: unrecognized arguments: -f /home/ssellu/.local/share/jupyter/runtime/kernel-87f4e23d-8991-4ad0-b1d3-99ec70d494ea.json\n"
     ]
    },
    {
     "ename": "SystemExit",
     "evalue": "2",
     "output_type": "error",
     "traceback": [
      "An exception has occurred, use %tb to see the full traceback.\n",
      "\u001b[0;31mSystemExit\u001b[0m\u001b[0;31m:\u001b[0m 2\n"
     ]
    },
    {
     "name": "stderr",
     "output_type": "stream",
     "text": [
      "/home/ssellu/.local/lib/python3.6/site-packages/IPython/core/interactiveshell.py:3351: UserWarning: To exit: use 'exit', 'quit', or Ctrl-D.\n",
      "  warn(\"To exit: use 'exit', 'quit', or Ctrl-D.\", stacklevel=1)\n"
     ]
    }
   ],
   "source": [
    "if __name__ == '__main__':\n",
    "    args = parse_args()\n",
    "    main()"
   ]
  },
  {
   "cell_type": "code",
   "execution_count": null,
   "metadata": {},
   "outputs": [],
   "source": []
  }
 ],
 "metadata": {
  "kernelspec": {
   "display_name": "Python 3",
   "language": "python",
   "name": "python3"
  },
  "language_info": {
   "codemirror_mode": {
    "name": "ipython",
    "version": 3
   },
   "file_extension": ".py",
   "mimetype": "text/x-python",
   "name": "python",
   "nbconvert_exporter": "python",
   "pygments_lexer": "ipython3",
   "version": "3.6.5"
  },
  "orig_nbformat": 4,
  "vscode": {
   "interpreter": {
    "hash": "31f2aee4e71d21fbe5cf8b01ff0e069b9275f58929596ceb00d14d90e3e16cd6"
   }
  }
 },
 "nbformat": 4,
 "nbformat_minor": 2
}
