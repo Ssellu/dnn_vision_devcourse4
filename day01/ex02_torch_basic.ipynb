{
 "cells": [
  {
   "attachments": {},
   "cell_type": "markdown",
   "metadata": {},
   "source": [
    "# Basics of Tensor in Pytorch\n",
    "- [Basics of Tensor in Pytorch](#basics-of-tensor-in-pytorch)\n",
    "  * [import](#import)\n",
    "  * [Creation of Tensor](#creation-of-tensor)\n",
    "    + [torch.tensor(list, dtype=torch.dtype)](#torchtensor-list--dtype-torchdtype-)\n",
    "    + [torch.arange(start, end, step)](#torcharange-start--end--step-)\n",
    "    + [torch.zeros(), torch.ones()](#torchzeros----torchones--)\n",
    "    + [torch.from_numpy()](#torchfrom-numpy--)\n",
    "  * [Reshape Tensor](#reshape-tensor)\n",
    "    + [torch.tensor.t() : transposition](#torchtensort-----transposition)\n",
    "    + [torch.tensor.view()](#torchtensorview--)\n",
    "  * [Tensor Extension](#tensor-extension)\n",
    "    + [torch.cat()](#torchcat--)\n",
    "    + [torch.stack()](#torchstack--)\n",
    "  * [Arithmetic Operations With Tensor](#arithmetic-operations-with-tensor)\n",
    "\n",
    "<small><i><a href='http://ecotrust-canada.github.io/markdown-toc/'>Table of contents generated with markdown-toc</a></i></small>\n"
   ]
  },
  {
   "cell_type": "markdown",
   "metadata": {},
   "source": [
    "## import"
   ]
  },
  {
   "cell_type": "code",
   "execution_count": 65,
   "metadata": {},
   "outputs": [],
   "source": [
    "import torch"
   ]
  },
  {
   "attachments": {},
   "cell_type": "markdown",
   "metadata": {},
   "source": [
    "## Creation of Tensor"
   ]
  },
  {
   "cell_type": "markdown",
   "metadata": {},
   "source": [
    "### torch.tensor(list, dtype=torch.dtype)"
   ]
  },
  {
   "cell_type": "code",
   "execution_count": 66,
   "metadata": {},
   "outputs": [
    {
     "data": {
      "text/plain": [
       "(tensor([1], dtype=torch.int16),\n",
       " tensor([2.]),\n",
       " tensor([2.], dtype=torch.float64))"
      ]
     },
     "execution_count": 66,
     "metadata": {},
     "output_type": "execute_result"
    }
   ],
   "source": [
    "# int16\n",
    "a = torch.tensor([1], dtype=torch.int16)\n",
    "\n",
    "# float\n",
    "b = torch.tensor([2], dtype=torch.float32)\n",
    "\n",
    "# double\n",
    "c = torch.tensor([2], dtype=torch.float64)\n",
    "\n",
    "a, b, c"
   ]
  },
  {
   "cell_type": "code",
   "execution_count": 67,
   "metadata": {},
   "outputs": [
    {
     "name": "stdout",
     "output_type": "stream",
     "text": [
      "Shape of tensor : torch.Size([1])\n",
      "dtype of tendor : torch.int16\n",
      "Device tensor is stored on cpu\n",
      "Shape of tensor : torch.Size([1])\n",
      "dtype of tendor : torch.float32\n",
      "Device tensor is stored on cpu\n",
      "Shape of tensor : torch.Size([1])\n",
      "dtype of tendor : torch.float64\n",
      "Device tensor is stored on cpu\n"
     ]
    }
   ],
   "source": [
    "tensor_list = [a, b, c]\n",
    "for t in tensor_list:\n",
    "    print(\"Shape of tensor : {}\".format(t.shape))\n",
    "    print(\"dtype of tendor : {}\".format(t.dtype))\n",
    "    print(\"Device tensor is stored on {}\".format(t.device))"
   ]
  },
  {
   "attachments": {},
   "cell_type": "markdown",
   "metadata": {},
   "source": [
    "### torch.arange(start, end, step)"
   ]
  },
  {
   "cell_type": "code",
   "execution_count": 68,
   "metadata": {},
   "outputs": [
    {
     "data": {
      "text/plain": [
       "(tensor([0, 1, 2, 3, 4, 5, 6, 7, 8, 9]),\n",
       " tensor([1, 2, 3, 4, 5, 6, 7, 8, 9]),\n",
       " tensor([1, 3, 5, 7, 9]))"
      ]
     },
     "execution_count": 68,
     "metadata": {},
     "output_type": "execute_result"
    }
   ],
   "source": [
    "a = torch.arange(10)\n",
    "b = torch.arange(1, 10)\n",
    "c = torch.arange(1, 10, 2)\n",
    "\n",
    "a, b, c"
   ]
  },
  {
   "attachments": {},
   "cell_type": "markdown",
   "metadata": {},
   "source": [
    "### torch.zeros(), torch.ones()"
   ]
  },
  {
   "cell_type": "code",
   "execution_count": 69,
   "metadata": {},
   "outputs": [
    {
     "data": {
      "text/plain": [
       "(tensor([0., 0.]),\n",
       " tensor([[[1., 1., 1.],\n",
       "          [1., 1., 1.],\n",
       "          [1., 1., 1.],\n",
       "          [1., 1., 1.],\n",
       "          [1., 1., 1.]],\n",
       " \n",
       "         [[1., 1., 1.],\n",
       "          [1., 1., 1.],\n",
       "          [1., 1., 1.],\n",
       "          [1., 1., 1.],\n",
       "          [1., 1., 1.]]]))"
      ]
     },
     "execution_count": 69,
     "metadata": {},
     "output_type": "execute_result"
    }
   ],
   "source": [
    "zeros = torch.zeros(2)\n",
    "ones  = torch.ones(2, 5, 3)\n",
    "zeros, ones"
   ]
  },
  {
   "cell_type": "markdown",
   "metadata": {},
   "source": [
    "### torch.from_numpy() "
   ]
  },
  {
   "cell_type": "code",
   "execution_count": 70,
   "metadata": {},
   "outputs": [
    {
     "data": {
      "text/plain": [
       "(array([[1, 2, 3],\n",
       "        [4, 5, 6]]),\n",
       " tensor([[1, 2, 3],\n",
       "         [4, 5, 6]]))"
      ]
     },
     "execution_count": 70,
     "metadata": {},
     "output_type": "execute_result"
    }
   ],
   "source": [
    "import numpy as np\n",
    "\n",
    "x = np.array([[1, 2, 3], [4, 5, 6]])\n",
    "y = torch.from_numpy(x)\n",
    "\n",
    "x, y"
   ]
  },
  {
   "cell_type": "markdown",
   "metadata": {},
   "source": [
    "## Reshape Tensor"
   ]
  },
  {
   "attachments": {},
   "cell_type": "markdown",
   "metadata": {},
   "source": [
    "### torch.tensor.t() : transposition"
   ]
  },
  {
   "cell_type": "code",
   "execution_count": 71,
   "metadata": {},
   "outputs": [
    {
     "data": {
      "text/plain": [
       "(tensor([[0, 1, 2, 3, 4],\n",
       "         [5, 6, 7, 8, 9]]),\n",
       " tensor([[0, 5],\n",
       "         [1, 6],\n",
       "         [2, 7],\n",
       "         [3, 8],\n",
       "         [4, 9]]))"
      ]
     },
     "execution_count": 71,
     "metadata": {},
     "output_type": "execute_result"
    }
   ],
   "source": [
    "a = torch.arange(10).view(2, 5)\n",
    "\n",
    "a, a.t()"
   ]
  },
  {
   "cell_type": "code",
   "execution_count": 80,
   "metadata": {},
   "outputs": [
    {
     "data": {
      "text/plain": [
       "tensor([[1, 4, 7],\n",
       "        [2, 5, 8],\n",
       "        [3, 6, 9]])"
      ]
     },
     "execution_count": 80,
     "metadata": {},
     "output_type": "execute_result"
    }
   ],
   "source": [
    "a = torch.arange(1, 10).view(3, 3)\n",
    "at = torch.transpose(a, 0, 1)  # swap bewten 0, 1 dims\n",
    "at"
   ]
  },
  {
   "cell_type": "code",
   "execution_count": 78,
   "metadata": {},
   "outputs": [
    {
     "data": {
      "text/plain": [
       "tensor([[[ 1,  7, 13, 19],\n",
       "         [ 3,  9, 15, 21],\n",
       "         [ 5, 11, 17, 23]],\n",
       "\n",
       "        [[ 2,  8, 14, 20],\n",
       "         [ 4, 10, 16, 22],\n",
       "         [ 6, 12, 18, 24]]])"
      ]
     },
     "execution_count": 78,
     "metadata": {},
     "output_type": "execute_result"
    }
   ],
   "source": [
    "a = torch.arange(1, 25).view(4, 3, 2)\n",
    "at = torch.transpose(a, 0, 2)  # swap bewten 0, 2 dims\n",
    "at"
   ]
  },
  {
   "cell_type": "code",
   "execution_count": 79,
   "metadata": {},
   "outputs": [
    {
     "data": {
      "text/plain": [
       "tensor([[[ 1,  3,  5],\n",
       "         [ 7,  9, 11],\n",
       "         [13, 15, 17],\n",
       "         [19, 21, 23]],\n",
       "\n",
       "        [[ 2,  4,  6],\n",
       "         [ 8, 10, 12],\n",
       "         [14, 16, 18],\n",
       "         [20, 22, 24]]])"
      ]
     },
     "execution_count": 79,
     "metadata": {},
     "output_type": "execute_result"
    }
   ],
   "source": [
    "a = torch.arange(1, 25).view(4, 3, 2)\n",
    "at = a.permute(2, 0, 1)  # swap elements E(i, j, k) to E(k, i, j)\n",
    "at"
   ]
  },
  {
   "attachments": {},
   "cell_type": "markdown",
   "metadata": {},
   "source": [
    "### torch.tensor.view()"
   ]
  },
  {
   "cell_type": "code",
   "execution_count": 72,
   "metadata": {},
   "outputs": [
    {
     "data": {
      "text/plain": [
       "tensor([[0, 1, 2, 3, 4],\n",
       "        [5, 6, 7, 8, 9]])"
      ]
     },
     "execution_count": 72,
     "metadata": {},
     "output_type": "execute_result"
    }
   ],
   "source": [
    "a1 = a.view(2, 5)\n",
    "\n",
    "a1"
   ]
  },
  {
   "cell_type": "code",
   "execution_count": 73,
   "metadata": {},
   "outputs": [
    {
     "data": {
      "text/plain": [
       "tensor([[[ 0,  1,  2],\n",
       "         [ 3,  4,  5],\n",
       "         [ 6,  7,  8],\n",
       "         [ 9, 10, 11],\n",
       "         [12, 13, 14]],\n",
       "\n",
       "        [[15, 16, 17],\n",
       "         [18, 19, 20],\n",
       "         [21, 22, 23],\n",
       "         [24, 25, 26],\n",
       "         [27, 28, 29]]])"
      ]
     },
     "execution_count": 73,
     "metadata": {},
     "output_type": "execute_result"
    }
   ],
   "source": [
    "a2 = torch.arange(30).view(2, 5, 3)\n",
    "\n",
    "a2"
   ]
  },
  {
   "cell_type": "markdown",
   "metadata": {},
   "source": [
    "## Tensor Extension"
   ]
  },
  {
   "attachments": {},
   "cell_type": "markdown",
   "metadata": {},
   "source": [
    "### torch.cat()"
   ]
  },
  {
   "cell_type": "code",
   "execution_count": 59,
   "metadata": {},
   "outputs": [
    {
     "data": {
      "text/plain": [
       "(tensor([[ 1,  2,  3, 10, 11, 12, 19, 20, 21],\n",
       "         [ 4,  5,  6, 13, 14, 15, 22, 23, 24],\n",
       "         [ 7,  8,  9, 16, 17, 18, 25, 26, 27]]),\n",
       " torch.Size([3, 9]))"
      ]
     },
     "execution_count": 59,
     "metadata": {},
     "output_type": "execute_result"
    }
   ],
   "source": [
    "a = torch.arange(1, 10).view(3, 3)\n",
    "b = torch.arange(10, 19).view(3, 3)\n",
    "c = torch.arange(19, 28).view(3, 3)\n",
    "\n",
    "abc = torch.cat([a, b, c], dim=1)\n",
    "abc, abc.shape"
   ]
  },
  {
   "cell_type": "code",
   "execution_count": 62,
   "metadata": {},
   "outputs": [
    {
     "data": {
      "text/plain": [
       "(tensor([[ 1,  2,  3],\n",
       "         [ 4,  5,  6],\n",
       "         [ 7,  8,  9],\n",
       "         [10, 11, 12],\n",
       "         [13, 14, 15],\n",
       "         [16, 17, 18],\n",
       "         [19, 20, 21],\n",
       "         [22, 23, 24],\n",
       "         [25, 26, 27]]),\n",
       " torch.Size([9, 3]))"
      ]
     },
     "execution_count": 62,
     "metadata": {},
     "output_type": "execute_result"
    }
   ],
   "source": [
    "a = torch.arange(1, 10).view(3, 3)\n",
    "b = torch.arange(10, 19).view(3, 3)\n",
    "c = torch.arange(19, 28).view(3, 3)\n",
    "\n",
    "abc = torch.cat([a, b, c], dim=-2)\n",
    "abc, abc.shape"
   ]
  },
  {
   "cell_type": "code",
   "execution_count": 64,
   "metadata": {},
   "outputs": [
    {
     "data": {
      "text/plain": [
       "(tensor([[ 1,  2,  3],\n",
       "         [ 4,  5,  6],\n",
       "         [ 7,  8,  9],\n",
       "         [10, 11, 12],\n",
       "         [13, 14, 15],\n",
       "         [16, 17, 18],\n",
       "         [19, 20, 21],\n",
       "         [22, 23, 24],\n",
       "         [25, 26, 27]]),\n",
       " torch.Size([9, 3]))"
      ]
     },
     "execution_count": 64,
     "metadata": {},
     "output_type": "execute_result"
    }
   ],
   "source": [
    "a = torch.arange(1, 10).view(3, 3)\n",
    "b = torch.arange(10, 19).view(3, 3)\n",
    "c = torch.arange(19, 28).view(3, 3)\n",
    "\n",
    "abc = torch.cat([a, b, c], dim=0)\n",
    "abc, abc.shape"
   ]
  },
  {
   "attachments": {},
   "cell_type": "markdown",
   "metadata": {},
   "source": [
    "### torch.stack()"
   ]
  },
  {
   "cell_type": "code",
   "execution_count": 74,
   "metadata": {},
   "outputs": [
    {
     "data": {
      "text/plain": [
       "(tensor([[[ 1,  2,  3],\n",
       "          [10, 11, 12],\n",
       "          [19, 20, 21]],\n",
       " \n",
       "         [[ 4,  5,  6],\n",
       "          [13, 14, 15],\n",
       "          [22, 23, 24]],\n",
       " \n",
       "         [[ 7,  8,  9],\n",
       "          [16, 17, 18],\n",
       "          [25, 26, 27]]]),\n",
       " torch.Size([3, 3, 3]))"
      ]
     },
     "execution_count": 74,
     "metadata": {},
     "output_type": "execute_result"
    }
   ],
   "source": [
    "a = torch.arange(1, 10).view(3, 3)\n",
    "b = torch.arange(10, 19).view(3, 3)\n",
    "c = torch.arange(19, 28).view(3, 3)\n",
    "\n",
    "abc = torch.stack([a, b, c], dim=1)\n",
    "abc, abc.shape"
   ]
  },
  {
   "cell_type": "code",
   "execution_count": 75,
   "metadata": {},
   "outputs": [
    {
     "data": {
      "text/plain": [
       "(tensor([[[ 1,  2,  3],\n",
       "          [10, 11, 12],\n",
       "          [19, 20, 21]],\n",
       " \n",
       "         [[ 4,  5,  6],\n",
       "          [13, 14, 15],\n",
       "          [22, 23, 24]],\n",
       " \n",
       "         [[ 7,  8,  9],\n",
       "          [16, 17, 18],\n",
       "          [25, 26, 27]]]),\n",
       " torch.Size([3, 3, 3]))"
      ]
     },
     "execution_count": 75,
     "metadata": {},
     "output_type": "execute_result"
    }
   ],
   "source": [
    "a = torch.arange(1, 10).view(3, 3)\n",
    "b = torch.arange(10, 19).view(3, 3)\n",
    "c = torch.arange(19, 28).view(3, 3)\n",
    "\n",
    "abc = torch.stack([a, b, c], dim=-2)\n",
    "abc, abc.shape"
   ]
  },
  {
   "cell_type": "code",
   "execution_count": 76,
   "metadata": {},
   "outputs": [
    {
     "data": {
      "text/plain": [
       "(tensor([[[ 1,  2,  3],\n",
       "          [ 4,  5,  6],\n",
       "          [ 7,  8,  9]],\n",
       " \n",
       "         [[10, 11, 12],\n",
       "          [13, 14, 15],\n",
       "          [16, 17, 18]],\n",
       " \n",
       "         [[19, 20, 21],\n",
       "          [22, 23, 24],\n",
       "          [25, 26, 27]]]),\n",
       " torch.Size([3, 3, 3]))"
      ]
     },
     "execution_count": 76,
     "metadata": {},
     "output_type": "execute_result"
    }
   ],
   "source": [
    "a = torch.arange(1, 10).view(3, 3)\n",
    "b = torch.arange(10, 19).view(3, 3)\n",
    "c = torch.arange(19, 28).view(3, 3)\n",
    "\n",
    "abc = torch.stack([a, b, c], dim=0)\n",
    "abc, abc.shape"
   ]
  },
  {
   "cell_type": "markdown",
   "metadata": {},
   "source": [
    "## Arithmetic Operations With Tensor"
   ]
  },
  {
   "cell_type": "code",
   "execution_count": 35,
   "metadata": {},
   "outputs": [],
   "source": [
    "a = torch.arange(1, 10, 2)\n",
    "b = torch.arange(10, 20, 2)"
   ]
  },
  {
   "cell_type": "code",
   "execution_count": 36,
   "metadata": {},
   "outputs": [
    {
     "data": {
      "text/plain": [
       "tensor([11, 15, 19, 23, 27])"
      ]
     },
     "execution_count": 36,
     "metadata": {},
     "output_type": "execute_result"
    }
   ],
   "source": [
    "a + b"
   ]
  },
  {
   "cell_type": "code",
   "execution_count": 37,
   "metadata": {},
   "outputs": [
    {
     "data": {
      "text/plain": [
       "tensor([-9, -9, -9, -9, -9])"
      ]
     },
     "execution_count": 37,
     "metadata": {},
     "output_type": "execute_result"
    }
   ],
   "source": [
    "a - b"
   ]
  },
  {
   "cell_type": "code",
   "execution_count": 49,
   "metadata": {},
   "outputs": [
    {
     "data": {
      "text/plain": [
       "tensor([[ 0,  5, 10, 15, 20],\n",
       "        [25, 30, 35, 40, 45]])"
      ]
     },
     "execution_count": 49,
     "metadata": {},
     "output_type": "execute_result"
    }
   ],
   "source": [
    "# Multiply\n",
    "a = torch.arange(10).view(2, 5)\n",
    "b = 5\n",
    "a * b"
   ]
  },
  {
   "cell_type": "code",
   "execution_count": 50,
   "metadata": {},
   "outputs": [
    {
     "data": {
      "text/plain": [
       "tensor([[140, 160],\n",
       "        [390, 460]])"
      ]
     },
     "execution_count": 50,
     "metadata": {},
     "output_type": "execute_result"
    }
   ],
   "source": [
    "# Matrix Multiply\n",
    "a = torch.arange(10).view(2, 5)\n",
    "b = torch.arange(2, 22, 2).view(5, 2)\n",
    "\n",
    "torch.matmul(a, b)"
   ]
  },
  {
   "cell_type": "code",
   "execution_count": 52,
   "metadata": {},
   "outputs": [
    {
     "data": {
      "text/plain": [
       "tensor([[  0,   4,  12,  24,  40],\n",
       "        [ 60,  84, 112, 144, 180]])"
      ]
     },
     "execution_count": 52,
     "metadata": {},
     "output_type": "execute_result"
    }
   ],
   "source": [
    "# Elementwise Multiply\n",
    "a = torch.arange(10).view(2, 5)\n",
    "b = torch.arange(2, 22, 2).view(2, 5)\n",
    "\n",
    "torch.mul(a, b)"
   ]
  },
  {
   "cell_type": "code",
   "execution_count": null,
   "metadata": {},
   "outputs": [],
   "source": []
  }
 ],
 "metadata": {
  "kernelspec": {
   "display_name": "Python 3",
   "language": "python",
   "name": "python3"
  },
  "language_info": {
   "codemirror_mode": {
    "name": "ipython",
    "version": 3
   },
   "file_extension": ".py",
   "mimetype": "text/x-python",
   "name": "python",
   "nbconvert_exporter": "python",
   "pygments_lexer": "ipython3",
   "version": "3.6.5 (default, Apr  1 2018, 05:46:30) \n[GCC 7.3.0]"
  },
  "orig_nbformat": 4,
  "vscode": {
   "interpreter": {
    "hash": "31f2aee4e71d21fbe5cf8b01ff0e069b9275f58929596ceb00d14d90e3e16cd6"
   }
  }
 },
 "nbformat": 4,
 "nbformat_minor": 2
}
